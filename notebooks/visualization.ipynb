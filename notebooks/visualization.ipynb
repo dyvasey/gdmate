{
 "cells": [
  {
   "cell_type": "markdown",
   "metadata": {},
   "source": [
    "# Visualization Examples #"
   ]
  },
  {
   "cell_type": "code",
   "execution_count": null,
   "metadata": {},
   "outputs": [],
   "source": [
    "import gdmate as gd\n",
    "\n",
    "import matplotlib.pyplot as plt\n",
    "import numpy as np\n",
    "import pyvista as pv"
   ]
  },
  {
   "cell_type": "markdown",
   "metadata": {},
   "source": [
    "### Start Xvfb if on headless machine ###\n",
    "Pyvista plotting will require Xvfb if running headless (e.g., on Binder). If you are using a local machine, you do not ned to run this."
   ]
  },
  {
   "cell_type": "code",
   "execution_count": null,
   "metadata": {},
   "outputs": [],
   "source": [
    "pv.start_xvfb()"
   ]
  },
  {
   "cell_type": "markdown",
   "metadata": {},
   "source": [
    "### Plot a 2D grid as an image on a Matplotlib axes ###\n",
    "The function `plot2D` takes a 2D Pyvista mesh and plots it using the bounds specified and colors it by the appropriate field"
   ]
  },
  {
   "cell_type": "code",
   "execution_count": null,
   "metadata": {},
   "outputs": [],
   "source": [
    "mesh = pv.UniformGrid(dims=(4, 4, 1)).cast_to_unstructured_grid()\n",
    "mesh['sample_field'] = np.arange(9)\n",
    "\n",
    "fig,ax = plt.subplots(1)\n",
    "ax = gd.visualization.plot2D(mesh,'sample_field',bounds=[0,2,0,2],ax=ax)"
   ]
  }
 ],
 "metadata": {
  "kernelspec": {
   "display_name": "Python 3.10.5 ('test-gdmate')",
   "language": "python",
   "name": "python3"
  },
  "language_info": {
   "codemirror_mode": {
    "name": "ipython",
    "version": 3
   },
   "file_extension": ".py",
   "mimetype": "text/x-python",
   "name": "python",
   "nbconvert_exporter": "python",
   "pygments_lexer": "ipython3",
   "version": "3.10.5"
  },
  "orig_nbformat": 4,
  "vscode": {
   "interpreter": {
    "hash": "418b4f509b9f9438918577446871f5691aa8f897c0dc2f04af11adc386393745"
   }
  }
 },
 "nbformat": 4,
 "nbformat_minor": 2
}
