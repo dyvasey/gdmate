{
 "cells": [
  {
   "cell_type": "markdown",
   "metadata": {},
   "source": [
    "# Visualization Examples #"
   ]
  },
  {
   "cell_type": "code",
   "execution_count": 1,
   "metadata": {},
   "outputs": [],
   "source": [
    "import gdmate as gd\n",
    "\n",
    "import matplotlib.pyplot as plt\n",
    "import numpy as np\n",
    "import pyvista as pv"
   ]
  },
  {
   "cell_type": "markdown",
   "metadata": {},
   "source": [
    "### Start Xvfb if on headless machine ###\n",
    "Pyvista plotting will require Xvfb if running headless (e.g., on Binder). If you are using a local machine, you do not need to run this, but on Binder and other headless environments you will."
   ]
  },
  {
   "cell_type": "code",
   "execution_count": null,
   "metadata": {},
   "outputs": [],
   "source": [
    "pv.start_xvfb()"
   ]
  },
  {
   "cell_type": "markdown",
   "metadata": {},
   "source": [
    "### Plot a 2D grid as an image on a Matplotlib axes ###\n",
    "The function `plot_pyvista_2d` takes a 2D Pyvista mesh and plots it using the bounds specified and colors it by the appropriate field. The code block below creates a sample Pyvista mesh of 9 cells (16 points), assigns each cell a value of 0-8, and the plots the 4 cells in the lower left on a Matplotlib axes with colors determined by the assigned value of the cell"
   ]
  },
  {
   "cell_type": "code",
   "execution_count": 2,
   "metadata": {},
   "outputs": [
    {
     "data": {
      "image/png": "[encoded data removed]",
      "text/plain": [
       "<Figure size 432x288 with 1 Axes>"
      ]
     },
     "metadata": {
      "needs_background": "light"
     },
     "output_type": "display_data"
    }
   ],
   "source": [
    "# Create unstructured grid mesh of 4x4 points and 3x3 cells\n",
    "mesh = pv.UniformGrid(dims=(4, 4, 1)).cast_to_unstructured_grid()\n",
    "\n",
    "# Assign scalar value of 0-8 to each of the nine cells\n",
    "mesh['sample_field'] = np.arange(9)\n",
    "\n",
    "# Set up Matplotlib figure/axes\n",
    "fig,ax = plt.subplots(1)\n",
    "\n",
    "# Plot the mesh on the axes and color by the scalar values\n",
    "ax = gd.visualization.plot_pyvista_2d(mesh,'sample_field',bounds=[0,2,0,2],ax=ax)"
   ]
  }
 ],
 "metadata": {
  "kernelspec": {
   "display_name": "Python 3.10.5 ('test-gdmate')",
   "language": "python",
   "name": "python3"
  },
  "language_info": {
   "codemirror_mode": {
    "name": "ipython",
    "version": 3
   },
   "file_extension": ".py",
   "mimetype": "text/x-python",
   "name": "python",
   "nbconvert_exporter": "python",
   "pygments_lexer": "ipython3",
   "version": "3.10.5"
  },
  "orig_nbformat": 4,
  "vscode": {
   "interpreter": {
    "hash": "3a0988b725239a073417bba138430d121f840a6dc80affb76b70c3bf10777959"
   }
  }
 },
 "nbformat": 4,
 "nbformat_minor": 2
}
