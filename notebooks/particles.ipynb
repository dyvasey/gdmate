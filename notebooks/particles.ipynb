{
 "cells": [
  {
   "cell_type": "code",
   "execution_count": null,
   "metadata": {},
   "outputs": [],
   "source": [
    "import numpy as np\n",
    "import matplotlib.pyplot as plt\n",
    "\n",
    "from gdmate.io import pyvista_io\n",
    "from gdmate.analysis_modules import particles\n",
    "from gdmate.visualization import pyvista_vis"
   ]
  },
  {
   "cell_type": "code",
   "execution_count": null,
   "metadata": {},
   "outputs": [],
   "source": [
    "directory = r'/mnt/15c59731-2c7b-420d-8e97-048239b4d9c8/riftinversion_overflow/072022_rip_a/output_ri_rift/particles'\n",
    "length = 72\n",
    "interval = 0.1\n",
    "start = length-20\n",
    "tsteps = np.arange(int(start/interval),int(length/interval+1),50)"
   ]
  },
  {
   "cell_type": "code",
   "execution_count": null,
   "metadata": {},
   "outputs": [],
   "source": [
    "bounds = [400e3,600e3,550e3,620e3,0,0]\n",
    "\n",
    "meshes = pyvista_io.pv_load_clipped_meshes(directory,tsteps,bounds=bounds,\n",
    "    kind='particles',processes=4)"
   ]
  },
  {
   "cell_type": "code",
   "execution_count": null,
   "metadata": {},
   "outputs": [],
   "source": [
    "fields = ['initial crust_upper','initial crust_lower','initial mantle_lithosphere']\n",
    "\n",
    "base_mesh = meshes[0]\n",
    "conditions = [base_mesh[field]>0.5 for field in fields]\n",
    "\n",
    "asth = ~conditions[0] & ~conditions[1] & ~conditions[2]\n",
    "lith = conditions[2]\n",
    "\n",
    "lith_points = base_mesh.points[asth]\n",
    "\n",
    "lith_y_values = lith_points[:,1]\n",
    "\n",
    "lith_max_indices = np.argsort(lith_y_values)[-100000:]\n",
    "#print(lith_points[:,1][lith_max_indices])\n",
    "\n",
    "lith_max_x_values = lith_points[:,0][lith_max_indices]\n",
    "lith_max_x_avg = np.median(lith_max_x_values)\n",
    "\n",
    "#print(lith_max_x_values)\n",
    "print(lith_max_x_avg)\n",
    "\n",
    "\n",
    "#asth_max = np.max(base_mesh.points[:,1][lith])\n",
    "#asth_max_x = base_mesh.points[:,0][base_mesh.points[:,1]==asth_max]\n",
    "\n",
    "#print(asth_max)\n",
    "#print(asth_max_x)\n",
    "\n",
    "side = base_mesh.points[:,0] <= lith_max_x_avg\n",
    "\n",
    "left_side_upper = side & conditions[0]\n",
    "left_side_lower = side & conditions[1]\n",
    "left_side_mantle = side & conditions[2]\n",
    "\n",
    "right_side_upper = ~side & conditions[0]\n",
    "right_side_lower = ~side & conditions[1]\n",
    "right_side_mantle = ~side & conditions[2]\n",
    "\n",
    "values = np.zeros(left_side_upper.shape)\n",
    "values[left_side_upper] = 1\n",
    "values[left_side_lower] = 2\n",
    "values[left_side_mantle] = 3\n",
    "values[right_side_upper] = 4\n",
    "values[right_side_lower] = 5\n",
    "values[right_side_mantle] = 6\n",
    "\n",
    "base_mesh['rift_side'] = values\n"
   ]
  },
  {
   "cell_type": "code",
   "execution_count": null,
   "metadata": {},
   "outputs": [],
   "source": [
    "new_meshes = particles.run_scalar_forward(meshes[0],meshes[1:],field='rift_side',\n",
    "    processes=8,interpolate=True,method='KDTree')"
   ]
  },
  {
   "cell_type": "code",
   "execution_count": null,
   "metadata": {},
   "outputs": [],
   "source": [
    "final_mesh = meshes[-1]\n",
    "final_mesh_new = particles.subtract_scalar(final_mesh,base_mesh,'noninitial_plastic_strain',\n",
    "    'compressional_strain',interpolate=True,processes=8)"
   ]
  },
  {
   "cell_type": "code",
   "execution_count": null,
   "metadata": {},
   "outputs": [],
   "source": [
    "fig,axs = plt.subplots(int(len(meshes)),dpi=300,figsize=(8.5,2*len(meshes)))\n",
    "\n",
    "for k,ax in enumerate(axs):\n",
    "    pyvista_vis.pv_plot_2d(meshes[k],'rift_side',bounds=bounds[0:4],ax=ax)"
   ]
  }
 ],
 "metadata": {
  "kernelspec": {
   "display_name": "Python 3.10.5 ('test-gdmate')",
   "language": "python",
   "name": "python3"
  },
  "language_info": {
   "codemirror_mode": {
    "name": "ipython",
    "version": 3
   },
   "file_extension": ".py",
   "mimetype": "text/x-python",
   "name": "python",
   "nbconvert_exporter": "python",
   "pygments_lexer": "ipython3",
   "version": "3.10.5"
  },
  "orig_nbformat": 4,
  "vscode": {
   "interpreter": {
    "hash": "3a0988b725239a073417bba138430d121f840a6dc80affb76b70c3bf10777959"
   }
  }
 },
 "nbformat": 4,
 "nbformat_minor": 2
}
