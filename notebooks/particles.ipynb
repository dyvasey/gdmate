{
 "cells": [
  {
   "cell_type": "code",
   "execution_count": 1,
   "metadata": {},
   "outputs": [],
   "source": [
    "import numpy as np\n",
    "import matplotlib.pyplot as plt\n",
    "\n",
    "from gdmate.io import pyvista_io\n",
    "from gdmate.analysis_modules import particles\n",
    "from gdmate.visualization import pyvista_vis"
   ]
  },
  {
   "cell_type": "code",
   "execution_count": 2,
   "metadata": {},
   "outputs": [],
   "source": [
    "directory = r'/mnt/15c59731-2c7b-420d-8e97-048239b4d9c8/riftinversion_overflow/072022_rip_b/output_ri_rift/particles'\n",
    "length = 54.5\n",
    "interval = 0.1\n",
    "start = length-20\n",
    "tsteps = np.arange(int(start/interval),int(length/interval+1),1)\n",
    "tsteps_small = np.arange(345,348,1)"
   ]
  },
  {
   "cell_type": "code",
   "execution_count": 3,
   "metadata": {},
   "outputs": [
    {
     "name": "stdout",
     "output_type": "stream",
     "text": [
      "Loading and Clipping Meshes...\n",
      "Processes:  4\n"
     ]
    },
    {
     "name": "stderr",
     "output_type": "stream",
     "text": [
      "100%|██████████| 3/3 [00:00<00:00, 16867.17it/s]\n"
     ]
    }
   ],
   "source": [
    "bounds = [400e3,600e3,550e3,620e3,0,0]\n",
    "field = 'initial crust_upper'\n",
    "\n",
    "meshes = pyvista_io.pv_load_clipped_meshes(directory,tsteps_small,bounds=bounds,\n",
    "    field=field,value=0.9,kind='particles',processes=4)"
   ]
  },
  {
   "cell_type": "code",
   "execution_count": 22,
   "metadata": {},
   "outputs": [
    {
     "name": "stdout",
     "output_type": "stream",
     "text": [
      "(array([77363, 78524]),)\n",
      "[354779.34 599387.56      0.  ]\n",
      "[363197.62 599204.06      0.  ]\n",
      "16783564.0\n",
      "16783564.0\n"
     ]
    }
   ],
   "source": [
    "left_side = meshes[0].points[:,0]<500e3\n",
    "\n",
    "meshes[0]['rift_side'] = left_side\n",
    "\n",
    "print(np.where(meshes[0]['id'] == 16783564))\n",
    "\n",
    "print(meshes[0].points[77363])\n",
    "print(meshes[0].points[78524])\n",
    "\n",
    "print(meshes[0]['id'][77363])\n",
    "print(meshes[0]['id'][78524])"
   ]
  },
  {
   "cell_type": "code",
   "execution_count": 5,
   "metadata": {},
   "outputs": [
    {
     "name": "stderr",
     "output_type": "stream",
     "text": [
      " 18%|█▊        | 77590/421342 [00:09<00:45, 7579.60it/s] "
     ]
    },
    {
     "name": "stdout",
     "output_type": "stream",
     "text": [
      "2\n",
      "16783564.0\n",
      "[ True  True]\n"
     ]
    },
    {
     "ename": "Exception",
     "evalue": "Something weird happened",
     "output_type": "error",
     "traceback": [
      "\u001b[0;31m---------------------------------------------------------------------------\u001b[0m",
      "\u001b[0;31mException\u001b[0m                                 Traceback (most recent call last)",
      "\u001b[1;32m/home/dyvasey/git/gdmate/notebooks/particles.ipynb Cell 5\u001b[0m in \u001b[0;36m<cell line: 1>\u001b[0;34m()\u001b[0m\n\u001b[0;32m----> <a href='vscode-notebook-cell:/home/dyvasey/git/gdmate/notebooks/particles.ipynb#ch0000003?line=0'>1</a>\u001b[0m particles\u001b[39m.\u001b[39;49mrun_scalar_forward(meshes[\u001b[39m0\u001b[39;49m],meshes[\u001b[39m1\u001b[39;49m:\u001b[39m3\u001b[39;49m],field\u001b[39m=\u001b[39;49m\u001b[39m'\u001b[39;49m\u001b[39mrift_side\u001b[39;49m\u001b[39m'\u001b[39;49m)\n",
      "File \u001b[0;32m~/miniconda3/envs/test-gdmate/lib/python3.10/site-packages/gdmate/analysis_modules/particles.py:42\u001b[0m, in \u001b[0;36mrun_scalar_forward\u001b[0;34m(source_mesh, future_meshes, field, interpolate, processes)\u001b[0m\n\u001b[1;32m     39\u001b[0m new_positions \u001b[39m=\u001b[39m mesh\u001b[39m.\u001b[39mpoints\n\u001b[1;32m     41\u001b[0m \u001b[39m# Loop through new particles\u001b[39;00m\n\u001b[0;32m---> 42\u001b[0m new_scalars \u001b[39m=\u001b[39m Parallel(n_jobs\u001b[39m=\u001b[39;49mprocesses,require\u001b[39m=\u001b[39;49m\u001b[39m'\u001b[39;49m\u001b[39msharedmem\u001b[39;49m\u001b[39m'\u001b[39;49m)(\n\u001b[1;32m     43\u001b[0m     delayed(get_previous_scalar)(particle,new_positions[k],old_particles,old_scalars,\n\u001b[1;32m     44\u001b[0m         old_positions, interpolate\u001b[39m=\u001b[39;49minterpolate) \n\u001b[1;32m     45\u001b[0m         \u001b[39mfor\u001b[39;49;00m k,particle \u001b[39min\u001b[39;49;00m \u001b[39menumerate\u001b[39;49m(tqdm(new_particles))\n\u001b[1;32m     46\u001b[0m     ) \n\u001b[1;32m     48\u001b[0m mesh[field] \u001b[39m=\u001b[39m new_scalars\n\u001b[1;32m     50\u001b[0m old_particles \u001b[39m=\u001b[39m new_particles\n",
      "File \u001b[0;32m~/miniconda3/envs/test-gdmate/lib/python3.10/site-packages/joblib/parallel.py:1056\u001b[0m, in \u001b[0;36mParallel.__call__\u001b[0;34m(self, iterable)\u001b[0m\n\u001b[1;32m   1053\u001b[0m     \u001b[39mself\u001b[39m\u001b[39m.\u001b[39m_iterating \u001b[39m=\u001b[39m \u001b[39mFalse\u001b[39;00m\n\u001b[1;32m   1055\u001b[0m \u001b[39mwith\u001b[39;00m \u001b[39mself\u001b[39m\u001b[39m.\u001b[39m_backend\u001b[39m.\u001b[39mretrieval_context():\n\u001b[0;32m-> 1056\u001b[0m     \u001b[39mself\u001b[39;49m\u001b[39m.\u001b[39;49mretrieve()\n\u001b[1;32m   1057\u001b[0m \u001b[39m# Make sure that we get a last message telling us we are done\u001b[39;00m\n\u001b[1;32m   1058\u001b[0m elapsed_time \u001b[39m=\u001b[39m time\u001b[39m.\u001b[39mtime() \u001b[39m-\u001b[39m \u001b[39mself\u001b[39m\u001b[39m.\u001b[39m_start_time\n",
      "File \u001b[0;32m~/miniconda3/envs/test-gdmate/lib/python3.10/site-packages/joblib/parallel.py:935\u001b[0m, in \u001b[0;36mParallel.retrieve\u001b[0;34m(self)\u001b[0m\n\u001b[1;32m    933\u001b[0m \u001b[39mtry\u001b[39;00m:\n\u001b[1;32m    934\u001b[0m     \u001b[39mif\u001b[39;00m \u001b[39mgetattr\u001b[39m(\u001b[39mself\u001b[39m\u001b[39m.\u001b[39m_backend, \u001b[39m'\u001b[39m\u001b[39msupports_timeout\u001b[39m\u001b[39m'\u001b[39m, \u001b[39mFalse\u001b[39;00m):\n\u001b[0;32m--> 935\u001b[0m         \u001b[39mself\u001b[39m\u001b[39m.\u001b[39m_output\u001b[39m.\u001b[39mextend(job\u001b[39m.\u001b[39;49mget(timeout\u001b[39m=\u001b[39;49m\u001b[39mself\u001b[39;49m\u001b[39m.\u001b[39;49mtimeout))\n\u001b[1;32m    936\u001b[0m     \u001b[39melse\u001b[39;00m:\n\u001b[1;32m    937\u001b[0m         \u001b[39mself\u001b[39m\u001b[39m.\u001b[39m_output\u001b[39m.\u001b[39mextend(job\u001b[39m.\u001b[39mget())\n",
      "File \u001b[0;32m~/miniconda3/envs/test-gdmate/lib/python3.10/multiprocessing/pool.py:771\u001b[0m, in \u001b[0;36mApplyResult.get\u001b[0;34m(self, timeout)\u001b[0m\n\u001b[1;32m    769\u001b[0m     \u001b[39mreturn\u001b[39;00m \u001b[39mself\u001b[39m\u001b[39m.\u001b[39m_value\n\u001b[1;32m    770\u001b[0m \u001b[39melse\u001b[39;00m:\n\u001b[0;32m--> 771\u001b[0m     \u001b[39mraise\u001b[39;00m \u001b[39mself\u001b[39m\u001b[39m.\u001b[39m_value\n",
      "File \u001b[0;32m~/miniconda3/envs/test-gdmate/lib/python3.10/multiprocessing/pool.py:125\u001b[0m, in \u001b[0;36mworker\u001b[0;34m(inqueue, outqueue, initializer, initargs, maxtasks, wrap_exception)\u001b[0m\n\u001b[1;32m    123\u001b[0m job, i, func, args, kwds \u001b[39m=\u001b[39m task\n\u001b[1;32m    124\u001b[0m \u001b[39mtry\u001b[39;00m:\n\u001b[0;32m--> 125\u001b[0m     result \u001b[39m=\u001b[39m (\u001b[39mTrue\u001b[39;00m, func(\u001b[39m*\u001b[39;49margs, \u001b[39m*\u001b[39;49m\u001b[39m*\u001b[39;49mkwds))\n\u001b[1;32m    126\u001b[0m \u001b[39mexcept\u001b[39;00m \u001b[39mException\u001b[39;00m \u001b[39mas\u001b[39;00m e:\n\u001b[1;32m    127\u001b[0m     \u001b[39mif\u001b[39;00m wrap_exception \u001b[39mand\u001b[39;00m func \u001b[39mis\u001b[39;00m \u001b[39mnot\u001b[39;00m _helper_reraises_exception:\n",
      "File \u001b[0;32m~/miniconda3/envs/test-gdmate/lib/python3.10/site-packages/joblib/_parallel_backends.py:595\u001b[0m, in \u001b[0;36mSafeFunction.__call__\u001b[0;34m(self, *args, **kwargs)\u001b[0m\n\u001b[1;32m    593\u001b[0m \u001b[39mdef\u001b[39;00m \u001b[39m__call__\u001b[39m(\u001b[39mself\u001b[39m, \u001b[39m*\u001b[39margs, \u001b[39m*\u001b[39m\u001b[39m*\u001b[39mkwargs):\n\u001b[1;32m    594\u001b[0m     \u001b[39mtry\u001b[39;00m:\n\u001b[0;32m--> 595\u001b[0m         \u001b[39mreturn\u001b[39;00m \u001b[39mself\u001b[39;49m\u001b[39m.\u001b[39;49mfunc(\u001b[39m*\u001b[39;49margs, \u001b[39m*\u001b[39;49m\u001b[39m*\u001b[39;49mkwargs)\n\u001b[1;32m    596\u001b[0m     \u001b[39mexcept\u001b[39;00m \u001b[39mKeyboardInterrupt\u001b[39;00m \u001b[39mas\u001b[39;00m e:\n\u001b[1;32m    597\u001b[0m         \u001b[39m# We capture the KeyboardInterrupt and reraise it as\u001b[39;00m\n\u001b[1;32m    598\u001b[0m         \u001b[39m# something different, as multiprocessing does not\u001b[39;00m\n\u001b[1;32m    599\u001b[0m         \u001b[39m# interrupt processing for a KeyboardInterrupt\u001b[39;00m\n\u001b[1;32m    600\u001b[0m         \u001b[39mraise\u001b[39;00m WorkerInterrupt() \u001b[39mfrom\u001b[39;00m \u001b[39me\u001b[39;00m\n",
      "File \u001b[0;32m~/miniconda3/envs/test-gdmate/lib/python3.10/site-packages/joblib/parallel.py:262\u001b[0m, in \u001b[0;36mBatchedCalls.__call__\u001b[0;34m(self)\u001b[0m\n\u001b[1;32m    258\u001b[0m \u001b[39mdef\u001b[39;00m \u001b[39m__call__\u001b[39m(\u001b[39mself\u001b[39m):\n\u001b[1;32m    259\u001b[0m     \u001b[39m# Set the default nested backend to self._backend but do not set the\u001b[39;00m\n\u001b[1;32m    260\u001b[0m     \u001b[39m# change the default number of processes to -1\u001b[39;00m\n\u001b[1;32m    261\u001b[0m     \u001b[39mwith\u001b[39;00m parallel_backend(\u001b[39mself\u001b[39m\u001b[39m.\u001b[39m_backend, n_jobs\u001b[39m=\u001b[39m\u001b[39mself\u001b[39m\u001b[39m.\u001b[39m_n_jobs):\n\u001b[0;32m--> 262\u001b[0m         \u001b[39mreturn\u001b[39;00m [func(\u001b[39m*\u001b[39margs, \u001b[39m*\u001b[39m\u001b[39m*\u001b[39mkwargs)\n\u001b[1;32m    263\u001b[0m                 \u001b[39mfor\u001b[39;00m func, args, kwargs \u001b[39min\u001b[39;00m \u001b[39mself\u001b[39m\u001b[39m.\u001b[39mitems]\n",
      "File \u001b[0;32m~/miniconda3/envs/test-gdmate/lib/python3.10/site-packages/joblib/parallel.py:262\u001b[0m, in \u001b[0;36m<listcomp>\u001b[0;34m(.0)\u001b[0m\n\u001b[1;32m    258\u001b[0m \u001b[39mdef\u001b[39;00m \u001b[39m__call__\u001b[39m(\u001b[39mself\u001b[39m):\n\u001b[1;32m    259\u001b[0m     \u001b[39m# Set the default nested backend to self._backend but do not set the\u001b[39;00m\n\u001b[1;32m    260\u001b[0m     \u001b[39m# change the default number of processes to -1\u001b[39;00m\n\u001b[1;32m    261\u001b[0m     \u001b[39mwith\u001b[39;00m parallel_backend(\u001b[39mself\u001b[39m\u001b[39m.\u001b[39m_backend, n_jobs\u001b[39m=\u001b[39m\u001b[39mself\u001b[39m\u001b[39m.\u001b[39m_n_jobs):\n\u001b[0;32m--> 262\u001b[0m         \u001b[39mreturn\u001b[39;00m [func(\u001b[39m*\u001b[39;49margs, \u001b[39m*\u001b[39;49m\u001b[39m*\u001b[39;49mkwargs)\n\u001b[1;32m    263\u001b[0m                 \u001b[39mfor\u001b[39;00m func, args, kwargs \u001b[39min\u001b[39;00m \u001b[39mself\u001b[39m\u001b[39m.\u001b[39mitems]\n",
      "File \u001b[0;32m~/miniconda3/envs/test-gdmate/lib/python3.10/site-packages/gdmate/analysis_modules/particles.py:83\u001b[0m, in \u001b[0;36mget_previous_scalar\u001b[0;34m(particle, position, old_particles, old_scalars, old_positions, interpolate)\u001b[0m\n\u001b[1;32m     81\u001b[0m     \u001b[39mprint\u001b[39m(particle)\n\u001b[1;32m     82\u001b[0m     \u001b[39mprint\u001b[39m(scalar)\n\u001b[0;32m---> 83\u001b[0m     \u001b[39mraise\u001b[39;00m \u001b[39mException\u001b[39;00m(\u001b[39m\"\u001b[39m\u001b[39mSomething weird happened\u001b[39m\u001b[39m\"\u001b[39m)\n\u001b[1;32m     85\u001b[0m \u001b[39mreturn\u001b[39;00m(new_scalar)\n",
      "\u001b[0;31mException\u001b[0m: Something weird happened"
     ]
    }
   ],
   "source": [
    "\n",
    "particles.run_scalar_forward(meshes[0],meshes[1:3],field='rift_side')"
   ]
  },
  {
   "cell_type": "code",
   "execution_count": null,
   "metadata": {},
   "outputs": [],
   "source": [
    "fig,axs = plt.subplots(len(meshes))\n",
    "\n",
    "for k,ax in enumerate(axs):\n",
    "    pyvista_vis.pv_plot_2d(meshes[k],'rift_side',bounds=bounds[0:4],ax=ax)"
   ]
  },
  {
   "cell_type": "code",
   "execution_count": null,
   "metadata": {},
   "outputs": [],
   "source": [
    "juice = ['A','B']\n",
    "plop = ['gorop','dornop']\n",
    "\n",
    "for x,y in juice,plop:\n",
    "    print(x)\n",
    "    #print(y)"
   ]
  }
 ],
 "metadata": {
  "kernelspec": {
   "display_name": "Python 3.10.5 ('test-gdmate')",
   "language": "python",
   "name": "python3"
  },
  "language_info": {
   "codemirror_mode": {
    "name": "ipython",
    "version": 3
   },
   "file_extension": ".py",
   "mimetype": "text/x-python",
   "name": "python",
   "nbconvert_exporter": "python",
   "pygments_lexer": "ipython3",
   "version": "3.10.5"
  },
  "orig_nbformat": 4,
  "vscode": {
   "interpreter": {
    "hash": "3a0988b725239a073417bba138430d121f840a6dc80affb76b70c3bf10777959"
   }
  }
 },
 "nbformat": 4,
 "nbformat_minor": 2
}
